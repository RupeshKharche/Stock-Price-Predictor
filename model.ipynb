{
  "cells": [
    {
      "cell_type": "code",
      "execution_count": 108,
      "id": "initial_id",
      "metadata": {
        "ExecuteTime": {
          "end_time": "2023-10-26T17:03:58.500811100Z",
          "start_time": "2023-10-26T17:03:56.159589200Z"
        },
        "id": "initial_id"
      },
      "outputs": [],
      "source": [
        "import numpy as np\n",
        "import pandas as pd\n",
        "import matplotlib.pyplot as plt\n",
        "import tensorflow as tf\n",
        "import yfinance as yf"
      ]
    },
    {
      "cell_type": "code",
      "execution_count": 109,
      "id": "435ea465d670713d",
      "metadata": {
        "ExecuteTime": {
          "end_time": "2023-10-26T17:04:00.581940300Z",
          "start_time": "2023-10-26T17:04:00.000817400Z"
        },
        "colab": {
          "base_uri": "https://localhost:8080/",
          "height": 472
        },
        "id": "435ea465d670713d",
        "outputId": "53b78abc-ad2d-4c5d-d169-c80575ab4e8b"
      },
      "outputs": [
        {
          "output_type": "stream",
          "name": "stdout",
          "text": [
            "\r[*********************100%%**********************]  1 of 1 completed\n"
          ]
        },
        {
          "output_type": "execute_result",
          "data": {
            "text/plain": [
              "                  Open        High         Low       Close   Adj Close  \\\n",
              "Date                                                                     \n",
              "2004-08-19    2.490664    2.591785    2.390042    2.499133    2.499133   \n",
              "2004-08-20    2.515820    2.716817    2.503118    2.697639    2.697639   \n",
              "2004-08-23    2.758411    2.826406    2.716070    2.724787    2.724787   \n",
              "2004-08-24    2.770615    2.779581    2.579581    2.611960    2.611960   \n",
              "2004-08-25    2.614201    2.689918    2.587302    2.640104    2.640104   \n",
              "...                ...         ...         ...         ...         ...   \n",
              "2023-10-20  138.589996  139.039993  136.244995  136.740005  136.740005   \n",
              "2023-10-23  136.229996  139.020004  135.110001  137.899994  137.899994   \n",
              "2023-10-24  139.160004  140.710007  138.750000  140.119995  140.119995   \n",
              "2023-10-25  129.770004  130.100006  126.089996  126.669998  126.669998   \n",
              "2023-10-26  124.470001  125.449997  122.320000  123.160004  123.160004   \n",
              "\n",
              "               Volume  \n",
              "Date                   \n",
              "2004-08-19  897427216  \n",
              "2004-08-20  458857488  \n",
              "2004-08-23  366857939  \n",
              "2004-08-24  306396159  \n",
              "2004-08-25  184645512  \n",
              "...               ...  \n",
              "2023-10-20   24953900  \n",
              "2023-10-23   20780700  \n",
              "2023-10-24   26535200  \n",
              "2023-10-25   58579200  \n",
              "2023-10-26   22377538  \n",
              "\n",
              "[4831 rows x 6 columns]"
            ],
            "text/html": [
              "\n",
              "  <div id=\"df-e931a97e-4ddb-4d43-8677-3d7e82bae3b3\" class=\"colab-df-container\">\n",
              "    <div>\n",
              "<style scoped>\n",
              "    .dataframe tbody tr th:only-of-type {\n",
              "        vertical-align: middle;\n",
              "    }\n",
              "\n",
              "    .dataframe tbody tr th {\n",
              "        vertical-align: top;\n",
              "    }\n",
              "\n",
              "    .dataframe thead th {\n",
              "        text-align: right;\n",
              "    }\n",
              "</style>\n",
              "<table border=\"1\" class=\"dataframe\">\n",
              "  <thead>\n",
              "    <tr style=\"text-align: right;\">\n",
              "      <th></th>\n",
              "      <th>Open</th>\n",
              "      <th>High</th>\n",
              "      <th>Low</th>\n",
              "      <th>Close</th>\n",
              "      <th>Adj Close</th>\n",
              "      <th>Volume</th>\n",
              "    </tr>\n",
              "    <tr>\n",
              "      <th>Date</th>\n",
              "      <th></th>\n",
              "      <th></th>\n",
              "      <th></th>\n",
              "      <th></th>\n",
              "      <th></th>\n",
              "      <th></th>\n",
              "    </tr>\n",
              "  </thead>\n",
              "  <tbody>\n",
              "    <tr>\n",
              "      <th>2004-08-19</th>\n",
              "      <td>2.490664</td>\n",
              "      <td>2.591785</td>\n",
              "      <td>2.390042</td>\n",
              "      <td>2.499133</td>\n",
              "      <td>2.499133</td>\n",
              "      <td>897427216</td>\n",
              "    </tr>\n",
              "    <tr>\n",
              "      <th>2004-08-20</th>\n",
              "      <td>2.515820</td>\n",
              "      <td>2.716817</td>\n",
              "      <td>2.503118</td>\n",
              "      <td>2.697639</td>\n",
              "      <td>2.697639</td>\n",
              "      <td>458857488</td>\n",
              "    </tr>\n",
              "    <tr>\n",
              "      <th>2004-08-23</th>\n",
              "      <td>2.758411</td>\n",
              "      <td>2.826406</td>\n",
              "      <td>2.716070</td>\n",
              "      <td>2.724787</td>\n",
              "      <td>2.724787</td>\n",
              "      <td>366857939</td>\n",
              "    </tr>\n",
              "    <tr>\n",
              "      <th>2004-08-24</th>\n",
              "      <td>2.770615</td>\n",
              "      <td>2.779581</td>\n",
              "      <td>2.579581</td>\n",
              "      <td>2.611960</td>\n",
              "      <td>2.611960</td>\n",
              "      <td>306396159</td>\n",
              "    </tr>\n",
              "    <tr>\n",
              "      <th>2004-08-25</th>\n",
              "      <td>2.614201</td>\n",
              "      <td>2.689918</td>\n",
              "      <td>2.587302</td>\n",
              "      <td>2.640104</td>\n",
              "      <td>2.640104</td>\n",
              "      <td>184645512</td>\n",
              "    </tr>\n",
              "    <tr>\n",
              "      <th>...</th>\n",
              "      <td>...</td>\n",
              "      <td>...</td>\n",
              "      <td>...</td>\n",
              "      <td>...</td>\n",
              "      <td>...</td>\n",
              "      <td>...</td>\n",
              "    </tr>\n",
              "    <tr>\n",
              "      <th>2023-10-20</th>\n",
              "      <td>138.589996</td>\n",
              "      <td>139.039993</td>\n",
              "      <td>136.244995</td>\n",
              "      <td>136.740005</td>\n",
              "      <td>136.740005</td>\n",
              "      <td>24953900</td>\n",
              "    </tr>\n",
              "    <tr>\n",
              "      <th>2023-10-23</th>\n",
              "      <td>136.229996</td>\n",
              "      <td>139.020004</td>\n",
              "      <td>135.110001</td>\n",
              "      <td>137.899994</td>\n",
              "      <td>137.899994</td>\n",
              "      <td>20780700</td>\n",
              "    </tr>\n",
              "    <tr>\n",
              "      <th>2023-10-24</th>\n",
              "      <td>139.160004</td>\n",
              "      <td>140.710007</td>\n",
              "      <td>138.750000</td>\n",
              "      <td>140.119995</td>\n",
              "      <td>140.119995</td>\n",
              "      <td>26535200</td>\n",
              "    </tr>\n",
              "    <tr>\n",
              "      <th>2023-10-25</th>\n",
              "      <td>129.770004</td>\n",
              "      <td>130.100006</td>\n",
              "      <td>126.089996</td>\n",
              "      <td>126.669998</td>\n",
              "      <td>126.669998</td>\n",
              "      <td>58579200</td>\n",
              "    </tr>\n",
              "    <tr>\n",
              "      <th>2023-10-26</th>\n",
              "      <td>124.470001</td>\n",
              "      <td>125.449997</td>\n",
              "      <td>122.320000</td>\n",
              "      <td>123.160004</td>\n",
              "      <td>123.160004</td>\n",
              "      <td>22377538</td>\n",
              "    </tr>\n",
              "  </tbody>\n",
              "</table>\n",
              "<p>4831 rows × 6 columns</p>\n",
              "</div>\n",
              "    <div class=\"colab-df-buttons\">\n",
              "\n",
              "  <div class=\"colab-df-container\">\n",
              "    <button class=\"colab-df-convert\" onclick=\"convertToInteractive('df-e931a97e-4ddb-4d43-8677-3d7e82bae3b3')\"\n",
              "            title=\"Convert this dataframe to an interactive table.\"\n",
              "            style=\"display:none;\">\n",
              "\n",
              "  <svg xmlns=\"http://www.w3.org/2000/svg\" height=\"24px\" viewBox=\"0 -960 960 960\">\n",
              "    <path d=\"M120-120v-720h720v720H120Zm60-500h600v-160H180v160Zm220 220h160v-160H400v160Zm0 220h160v-160H400v160ZM180-400h160v-160H180v160Zm440 0h160v-160H620v160ZM180-180h160v-160H180v160Zm440 0h160v-160H620v160Z\"/>\n",
              "  </svg>\n",
              "    </button>\n",
              "\n",
              "  <style>\n",
              "    .colab-df-container {\n",
              "      display:flex;\n",
              "      gap: 12px;\n",
              "    }\n",
              "\n",
              "    .colab-df-convert {\n",
              "      background-color: #E8F0FE;\n",
              "      border: none;\n",
              "      border-radius: 50%;\n",
              "      cursor: pointer;\n",
              "      display: none;\n",
              "      fill: #1967D2;\n",
              "      height: 32px;\n",
              "      padding: 0 0 0 0;\n",
              "      width: 32px;\n",
              "    }\n",
              "\n",
              "    .colab-df-convert:hover {\n",
              "      background-color: #E2EBFA;\n",
              "      box-shadow: 0px 1px 2px rgba(60, 64, 67, 0.3), 0px 1px 3px 1px rgba(60, 64, 67, 0.15);\n",
              "      fill: #174EA6;\n",
              "    }\n",
              "\n",
              "    .colab-df-buttons div {\n",
              "      margin-bottom: 4px;\n",
              "    }\n",
              "\n",
              "    [theme=dark] .colab-df-convert {\n",
              "      background-color: #3B4455;\n",
              "      fill: #D2E3FC;\n",
              "    }\n",
              "\n",
              "    [theme=dark] .colab-df-convert:hover {\n",
              "      background-color: #434B5C;\n",
              "      box-shadow: 0px 1px 3px 1px rgba(0, 0, 0, 0.15);\n",
              "      filter: drop-shadow(0px 1px 2px rgba(0, 0, 0, 0.3));\n",
              "      fill: #FFFFFF;\n",
              "    }\n",
              "  </style>\n",
              "\n",
              "    <script>\n",
              "      const buttonEl =\n",
              "        document.querySelector('#df-e931a97e-4ddb-4d43-8677-3d7e82bae3b3 button.colab-df-convert');\n",
              "      buttonEl.style.display =\n",
              "        google.colab.kernel.accessAllowed ? 'block' : 'none';\n",
              "\n",
              "      async function convertToInteractive(key) {\n",
              "        const element = document.querySelector('#df-e931a97e-4ddb-4d43-8677-3d7e82bae3b3');\n",
              "        const dataTable =\n",
              "          await google.colab.kernel.invokeFunction('convertToInteractive',\n",
              "                                                    [key], {});\n",
              "        if (!dataTable) return;\n",
              "\n",
              "        const docLinkHtml = 'Like what you see? Visit the ' +\n",
              "          '<a target=\"_blank\" href=https://colab.research.google.com/notebooks/data_table.ipynb>data table notebook</a>'\n",
              "          + ' to learn more about interactive tables.';\n",
              "        element.innerHTML = '';\n",
              "        dataTable['output_type'] = 'display_data';\n",
              "        await google.colab.output.renderOutput(dataTable, element);\n",
              "        const docLink = document.createElement('div');\n",
              "        docLink.innerHTML = docLinkHtml;\n",
              "        element.appendChild(docLink);\n",
              "      }\n",
              "    </script>\n",
              "  </div>\n",
              "\n",
              "\n",
              "<div id=\"df-f6d27466-31ce-4750-a94f-b06725e8e0d8\">\n",
              "  <button class=\"colab-df-quickchart\" onclick=\"quickchart('df-f6d27466-31ce-4750-a94f-b06725e8e0d8')\"\n",
              "            title=\"Suggest charts.\"\n",
              "            style=\"display:none;\">\n",
              "\n",
              "<svg xmlns=\"http://www.w3.org/2000/svg\" height=\"24px\"viewBox=\"0 0 24 24\"\n",
              "     width=\"24px\">\n",
              "    <g>\n",
              "        <path d=\"M19 3H5c-1.1 0-2 .9-2 2v14c0 1.1.9 2 2 2h14c1.1 0 2-.9 2-2V5c0-1.1-.9-2-2-2zM9 17H7v-7h2v7zm4 0h-2V7h2v10zm4 0h-2v-4h2v4z\"/>\n",
              "    </g>\n",
              "</svg>\n",
              "  </button>\n",
              "\n",
              "<style>\n",
              "  .colab-df-quickchart {\n",
              "      --bg-color: #E8F0FE;\n",
              "      --fill-color: #1967D2;\n",
              "      --hover-bg-color: #E2EBFA;\n",
              "      --hover-fill-color: #174EA6;\n",
              "      --disabled-fill-color: #AAA;\n",
              "      --disabled-bg-color: #DDD;\n",
              "  }\n",
              "\n",
              "  [theme=dark] .colab-df-quickchart {\n",
              "      --bg-color: #3B4455;\n",
              "      --fill-color: #D2E3FC;\n",
              "      --hover-bg-color: #434B5C;\n",
              "      --hover-fill-color: #FFFFFF;\n",
              "      --disabled-bg-color: #3B4455;\n",
              "      --disabled-fill-color: #666;\n",
              "  }\n",
              "\n",
              "  .colab-df-quickchart {\n",
              "    background-color: var(--bg-color);\n",
              "    border: none;\n",
              "    border-radius: 50%;\n",
              "    cursor: pointer;\n",
              "    display: none;\n",
              "    fill: var(--fill-color);\n",
              "    height: 32px;\n",
              "    padding: 0;\n",
              "    width: 32px;\n",
              "  }\n",
              "\n",
              "  .colab-df-quickchart:hover {\n",
              "    background-color: var(--hover-bg-color);\n",
              "    box-shadow: 0 1px 2px rgba(60, 64, 67, 0.3), 0 1px 3px 1px rgba(60, 64, 67, 0.15);\n",
              "    fill: var(--button-hover-fill-color);\n",
              "  }\n",
              "\n",
              "  .colab-df-quickchart-complete:disabled,\n",
              "  .colab-df-quickchart-complete:disabled:hover {\n",
              "    background-color: var(--disabled-bg-color);\n",
              "    fill: var(--disabled-fill-color);\n",
              "    box-shadow: none;\n",
              "  }\n",
              "\n",
              "  .colab-df-spinner {\n",
              "    border: 2px solid var(--fill-color);\n",
              "    border-color: transparent;\n",
              "    border-bottom-color: var(--fill-color);\n",
              "    animation:\n",
              "      spin 1s steps(1) infinite;\n",
              "  }\n",
              "\n",
              "  @keyframes spin {\n",
              "    0% {\n",
              "      border-color: transparent;\n",
              "      border-bottom-color: var(--fill-color);\n",
              "      border-left-color: var(--fill-color);\n",
              "    }\n",
              "    20% {\n",
              "      border-color: transparent;\n",
              "      border-left-color: var(--fill-color);\n",
              "      border-top-color: var(--fill-color);\n",
              "    }\n",
              "    30% {\n",
              "      border-color: transparent;\n",
              "      border-left-color: var(--fill-color);\n",
              "      border-top-color: var(--fill-color);\n",
              "      border-right-color: var(--fill-color);\n",
              "    }\n",
              "    40% {\n",
              "      border-color: transparent;\n",
              "      border-right-color: var(--fill-color);\n",
              "      border-top-color: var(--fill-color);\n",
              "    }\n",
              "    60% {\n",
              "      border-color: transparent;\n",
              "      border-right-color: var(--fill-color);\n",
              "    }\n",
              "    80% {\n",
              "      border-color: transparent;\n",
              "      border-right-color: var(--fill-color);\n",
              "      border-bottom-color: var(--fill-color);\n",
              "    }\n",
              "    90% {\n",
              "      border-color: transparent;\n",
              "      border-bottom-color: var(--fill-color);\n",
              "    }\n",
              "  }\n",
              "</style>\n",
              "\n",
              "  <script>\n",
              "    async function quickchart(key) {\n",
              "      const quickchartButtonEl =\n",
              "        document.querySelector('#' + key + ' button');\n",
              "      quickchartButtonEl.disabled = true;  // To prevent multiple clicks.\n",
              "      quickchartButtonEl.classList.add('colab-df-spinner');\n",
              "      try {\n",
              "        const charts = await google.colab.kernel.invokeFunction(\n",
              "            'suggestCharts', [key], {});\n",
              "      } catch (error) {\n",
              "        console.error('Error during call to suggestCharts:', error);\n",
              "      }\n",
              "      quickchartButtonEl.classList.remove('colab-df-spinner');\n",
              "      quickchartButtonEl.classList.add('colab-df-quickchart-complete');\n",
              "    }\n",
              "    (() => {\n",
              "      let quickchartButtonEl =\n",
              "        document.querySelector('#df-f6d27466-31ce-4750-a94f-b06725e8e0d8 button');\n",
              "      quickchartButtonEl.style.display =\n",
              "        google.colab.kernel.accessAllowed ? 'block' : 'none';\n",
              "    })();\n",
              "  </script>\n",
              "</div>\n",
              "    </div>\n",
              "  </div>\n"
            ]
          },
          "metadata": {},
          "execution_count": 109
        }
      ],
      "source": [
        "data = yf.download(\"GOOG\")\n",
        "data"
      ]
    },
    {
      "cell_type": "code",
      "execution_count": 110,
      "outputs": [],
      "source": [
        "data = data.reset_index()"
      ],
      "metadata": {
        "ExecuteTime": {
          "end_time": "2023-10-26T17:04:02.313344500Z",
          "start_time": "2023-10-26T17:04:02.303391100Z"
        },
        "id": "bd81ca91a99866a7"
      },
      "id": "bd81ca91a99866a7"
    },
    {
      "cell_type": "code",
      "execution_count": 111,
      "id": "990a87d8",
      "metadata": {
        "ExecuteTime": {
          "end_time": "2023-10-26T17:04:03.026743Z",
          "start_time": "2023-10-26T17:04:03.019925Z"
        },
        "colab": {
          "base_uri": "https://localhost:8080/"
        },
        "id": "990a87d8",
        "outputId": "69e14790-b647-424f-db3e-bcd081561602"
      },
      "outputs": [
        {
          "output_type": "execute_result",
          "data": {
            "text/plain": [
              "0         2.499133\n",
              "1         2.697639\n",
              "2         2.724787\n",
              "3         2.611960\n",
              "4         2.640104\n",
              "           ...    \n",
              "4826    136.740005\n",
              "4827    137.899994\n",
              "4828    140.119995\n",
              "4829    126.669998\n",
              "4830    123.160004\n",
              "Name: Close, Length: 4831, dtype: float64"
            ]
          },
          "metadata": {},
          "execution_count": 111
        }
      ],
      "source": [
        "prices = data['Close']\n",
        "prices"
      ]
    },
    {
      "cell_type": "code",
      "execution_count": 112,
      "outputs": [
        {
          "output_type": "execute_result",
          "data": {
            "text/plain": [
              "[<matplotlib.lines.Line2D at 0x7918a84294b0>]"
            ]
          },
          "metadata": {},
          "execution_count": 112
        },
        {
          "output_type": "display_data",
          "data": {
            "text/plain": [
              "<Figure size 640x480 with 1 Axes>"
            ],
            "image/png": "[encoded data removed]"
          },
          "metadata": {}
        }
      ],
      "source": [
        "plt.plot(data['Close'])"
      ],
      "metadata": {
        "ExecuteTime": {
          "end_time": "2023-10-26T17:04:03.957440400Z",
          "start_time": "2023-10-26T17:04:03.829933500Z"
        },
        "colab": {
          "base_uri": "https://localhost:8080/",
          "height": 447
        },
        "id": "d0218a0852ffadd6",
        "outputId": "c02484fa-541e-4446-a9ac-9409c7fafe64"
      },
      "id": "d0218a0852ffadd6"
    },
    {
      "cell_type": "code",
      "execution_count": 113,
      "outputs": [],
      "source": [
        "# Extracting Close prices from dataframe\n",
        "close_prices = data['Close'].to_numpy().reshape(-1, 1)"
      ],
      "metadata": {
        "ExecuteTime": {
          "end_time": "2023-10-26T17:04:14.214889800Z",
          "start_time": "2023-10-26T17:04:14.195418600Z"
        },
        "id": "8f9b5615cf8f61f"
      },
      "id": "8f9b5615cf8f61f"
    },
    {
      "cell_type": "code",
      "source": [
        "from sklearn.preprocessing import MinMaxScaler\n",
        "\n",
        "scaler = MinMaxScaler()\n",
        "scaled_prices = scaler.fit_transform(close_prices)"
      ],
      "metadata": {
        "id": "zJrFlovM-Dat"
      },
      "id": "zJrFlovM-Dat",
      "execution_count": 114,
      "outputs": []
    },
    {
      "cell_type": "code",
      "source": [
        "scaled_prices"
      ],
      "metadata": {
        "colab": {
          "base_uri": "https://localhost:8080/"
        },
        "id": "c5rHcCgx-dim",
        "outputId": "47127043-7576-488a-a00c-d6ca9df62a22"
      },
      "id": "c5rHcCgx-dim",
      "execution_count": 115,
      "outputs": [
        {
          "output_type": "execute_result",
          "data": {
            "text/plain": [
              "array([[5.54601395e-05],\n",
              "       [1.39474256e-03],\n",
              "       [1.57790515e-03],\n",
              "       ...,\n",
              "       [9.28557946e-01],\n",
              "       [8.37813306e-01],\n",
              "       [8.14132023e-01]])"
            ]
          },
          "metadata": {},
          "execution_count": 115
        }
      ]
    },
    {
      "cell_type": "code",
      "execution_count": 116,
      "outputs": [],
      "source": [
        "# Creating training and testing splits\n",
        "training_split = int((len(scaled_prices) * 0.8))\n",
        "\n",
        "train_data = scaled_prices[:training_split]\n",
        "test_data = scaled_prices[training_split:]"
      ],
      "metadata": {
        "ExecuteTime": {
          "end_time": "2023-10-26T17:04:14.745063500Z",
          "start_time": "2023-10-26T17:04:14.735330400Z"
        },
        "id": "63d76099b8df6e8e"
      },
      "id": "63d76099b8df6e8e"
    },
    {
      "cell_type": "code",
      "execution_count": 117,
      "outputs": [
        {
          "output_type": "execute_result",
          "data": {
            "text/plain": [
              "((3864, 1), (967, 1))"
            ]
          },
          "metadata": {},
          "execution_count": 117
        }
      ],
      "source": [
        "train_data.shape, test_data.shape"
      ],
      "metadata": {
        "ExecuteTime": {
          "end_time": "2023-10-26T17:04:16.413615700Z",
          "start_time": "2023-10-26T17:04:16.408748900Z"
        },
        "colab": {
          "base_uri": "https://localhost:8080/"
        },
        "id": "f20d2d88e58f80ef",
        "outputId": "8aeef5aa-a38c-4cf6-de25-c514ad656ecf"
      },
      "id": "f20d2d88e58f80ef"
    },
    {
      "cell_type": "code",
      "execution_count": 118,
      "outputs": [
        {
          "output_type": "execute_result",
          "data": {
            "text/plain": [
              "((3857, 7, 1), (3857, 1))"
            ]
          },
          "metadata": {},
          "execution_count": 118
        }
      ],
      "source": [
        "# Use 7 days of close prices to predict the 8th day's close price\n",
        "WINDOW = 7\n",
        "\n",
        "# Creating windows and labels in train data\n",
        "X_train = []\n",
        "y_train = []\n",
        "\n",
        "for i in range(WINDOW, len(train_data)):\n",
        "    X_train.append(train_data[i-WINDOW:i])\n",
        "    y_train.append(train_data[i])\n",
        "\n",
        "X_train, y_train = np.array(X_train), np.array(y_train)\n",
        "\n",
        "X_train = np.reshape(X_train, (X_train.shape[0], X_train.shape[1], 1))\n",
        "\n",
        "X_train.shape, y_train.shape"
      ],
      "metadata": {
        "ExecuteTime": {
          "end_time": "2023-10-26T17:04:17.745370400Z",
          "start_time": "2023-10-26T17:04:17.738553400Z"
        },
        "colab": {
          "base_uri": "https://localhost:8080/"
        },
        "id": "7c1b54cdf6bf8b99",
        "outputId": "7717913f-2e2e-457c-ebf7-8cb3c6eea19f"
      },
      "id": "7c1b54cdf6bf8b99"
    },
    {
      "cell_type": "code",
      "execution_count": 119,
      "outputs": [
        {
          "output_type": "execute_result",
          "data": {
            "text/plain": [
              "((960, 7, 1), (960, 1))"
            ]
          },
          "metadata": {},
          "execution_count": 119
        }
      ],
      "source": [
        "# Creating windows and labels in test data\n",
        "\n",
        "X_test = []\n",
        "y_test = []\n",
        "\n",
        "for i in range(WINDOW, len(test_data)):\n",
        "    X_test.append(test_data[i-WINDOW:i])\n",
        "    y_test.append(test_data[i])\n",
        "\n",
        "X_test, y_test = np.array(X_test), np.array(y_test)\n",
        "\n",
        "X_test = np.reshape(X_test, (X_test.shape[0], X_test.shape[1], 1))\n",
        "\n",
        "X_test.shape, y_test.shape"
      ],
      "metadata": {
        "ExecuteTime": {
          "end_time": "2023-10-26T17:04:20.554085100Z",
          "start_time": "2023-10-26T17:04:20.545326100Z"
        },
        "colab": {
          "base_uri": "https://localhost:8080/"
        },
        "id": "a4e380e930435c1",
        "outputId": "896b71cc-b7d1-480d-a5cc-6de60ef93ddb"
      },
      "id": "a4e380e930435c1"
    },
    {
      "cell_type": "code",
      "execution_count": 120,
      "outputs": [],
      "source": [
        "# Creating model\n",
        "model_1 = tf.keras.models.Sequential([\n",
        "    tf.keras.layers.LSTM(128, return_sequences=True, input_shape=(X_train.shape[1], 1)),\n",
        "    tf.keras.layers.LSTM(64, return_sequences=False),\n",
        "    tf.keras.layers.Dense(32),\n",
        "    tf.keras.layers.Dense(1)\n",
        "])\n",
        "\n",
        "# Compiling the model\n",
        "model_1.compile(loss='mse', optimizer='adam', metrics=['mae'])"
      ],
      "metadata": {
        "ExecuteTime": {
          "end_time": "2023-10-26T17:04:23.921094300Z",
          "start_time": "2023-10-26T17:04:21.280479200Z"
        },
        "id": "508ee4b718cb03f9"
      },
      "id": "508ee4b718cb03f9"
    },
    {
      "cell_type": "code",
      "execution_count": 121,
      "outputs": [
        {
          "output_type": "stream",
          "name": "stdout",
          "text": [
            "Epoch 1/10\n",
            "121/121 [==============================] - 5s 13ms/step - loss: 0.0012 - mae: 0.0157\n",
            "Epoch 2/10\n",
            "121/121 [==============================] - 1s 11ms/step - loss: 3.1497e-05 - mae: 0.0038\n",
            "Epoch 3/10\n",
            "121/121 [==============================] - 1s 11ms/step - loss: 3.1656e-05 - mae: 0.0037\n",
            "Epoch 4/10\n",
            "121/121 [==============================] - 1s 11ms/step - loss: 3.2087e-05 - mae: 0.0038\n",
            "Epoch 5/10\n",
            "121/121 [==============================] - 1s 11ms/step - loss: 3.3380e-05 - mae: 0.0039\n",
            "Epoch 6/10\n",
            "121/121 [==============================] - 1s 11ms/step - loss: 3.4108e-05 - mae: 0.0040\n",
            "Epoch 7/10\n",
            "121/121 [==============================] - 1s 11ms/step - loss: 3.7673e-05 - mae: 0.0043\n",
            "Epoch 8/10\n",
            "121/121 [==============================] - 2s 14ms/step - loss: 3.6380e-05 - mae: 0.0042\n",
            "Epoch 9/10\n",
            "121/121 [==============================] - 2s 13ms/step - loss: 3.5659e-05 - mae: 0.0042\n",
            "Epoch 10/10\n",
            "121/121 [==============================] - 1s 11ms/step - loss: 3.0722e-05 - mae: 0.0038\n"
          ]
        }
      ],
      "source": [
        "history_1 = model_1.fit(X_train, y_train, epochs=10)"
      ],
      "metadata": {
        "ExecuteTime": {
          "end_time": "2023-10-26T17:04:33.592622Z",
          "start_time": "2023-10-26T17:04:24.753277800Z"
        },
        "colab": {
          "base_uri": "https://localhost:8080/"
        },
        "id": "3a12095829012229",
        "outputId": "95f12eec-165f-46a8-8c83-cf74f07d366d"
      },
      "id": "3a12095829012229"
    },
    {
      "cell_type": "code",
      "execution_count": 122,
      "outputs": [
        {
          "output_type": "execute_result",
          "data": {
            "text/plain": [
              "[<matplotlib.lines.Line2D at 0x7918a706c070>]"
            ]
          },
          "metadata": {},
          "execution_count": 122
        },
        {
          "output_type": "display_data",
          "data": {
            "text/plain": [
              "<Figure size 640x480 with 1 Axes>"
            ],
            "image/png": "[encoded data removed]"
          },
          "metadata": {}
        }
      ],
      "source": [
        "plt.plot(history_1.history['loss'])"
      ],
      "metadata": {
        "ExecuteTime": {
          "end_time": "2023-10-26T17:04:38.986700600Z",
          "start_time": "2023-10-26T17:04:38.868926600Z"
        },
        "colab": {
          "base_uri": "https://localhost:8080/",
          "height": 447
        },
        "id": "f11ab8d73029676a",
        "outputId": "bf054ad2-cdae-47ee-ca28-6aa770ea5607"
      },
      "id": "f11ab8d73029676a"
    },
    {
      "cell_type": "code",
      "execution_count": 124,
      "outputs": [
        {
          "output_type": "stream",
          "name": "stdout",
          "text": [
            "30/30 [==============================] - 0s 3ms/step\n"
          ]
        },
        {
          "output_type": "display_data",
          "data": {
            "text/plain": [
              "<Figure size 640x480 with 1 Axes>"
            ],
            "image/png": "[encoded data removed]"
          },
          "metadata": {}
        }
      ],
      "source": [
        "plt.plot(scaler.inverse_transform(model_1.predict(X_test)), c='r', label='Predicted Price')\n",
        "plt.plot(scaler.inverse_transform(y_test), c='g', label='Actual Price')\n",
        "plt.legend()\n",
        "plt.show()"
      ],
      "metadata": {
        "colab": {
          "base_uri": "https://localhost:8080/",
          "height": 447
        },
        "id": "12de1b877f0dee87",
        "outputId": "01e7b7f0-3059-49ea-e38a-57ee0ab483e2"
      },
      "id": "12de1b877f0dee87"
    },
    {
      "cell_type": "code",
      "source": [
        "model_1.save(\"model.h5\")"
      ],
      "metadata": {
        "id": "784n1HUWCzox"
      },
      "id": "784n1HUWCzox",
      "execution_count": 128,
      "outputs": []
    },
    {
      "cell_type": "code",
      "source": [],
      "metadata": {
        "id": "TkizhBwME6QA"
      },
      "id": "TkizhBwME6QA",
      "execution_count": null,
      "outputs": []
    }
  ],
  "metadata": {
    "kernelspec": {
      "name": "python3",
      "language": "python",
      "display_name": "Python 3 (ipykernel)"
    },
    "language_info": {
      "codemirror_mode": {
        "name": "ipython",
        "version": 3
      },
      "file_extension": ".py",
      "mimetype": "text/x-python",
      "name": "python",
      "nbconvert_exporter": "python",
      "pygments_lexer": "ipython3",
      "version": "3.10.12"
    },
    "colab": {
      "provenance": []
    }
  },
  "nbformat": 4,
  "nbformat_minor": 5
}